{
 "cells": [
  {
   "cell_type": "code",
   "execution_count": 1,
   "metadata": {},
   "outputs": [],
   "source": [
    "import numpy as np\n",
    "import pandas as pd"
   ]
  },
  {
   "cell_type": "code",
   "execution_count": 2,
   "metadata": {},
   "outputs": [],
   "source": [
    "df = pd.read_csv(\"consumo_casa.csv\")"
   ]
  },
  {
   "cell_type": "code",
   "execution_count": 5,
   "metadata": {},
   "outputs": [
    {
     "data": {
      "text/html": [
       "<div>\n",
       "<style scoped>\n",
       "    .dataframe tbody tr th:only-of-type {\n",
       "        vertical-align: middle;\n",
       "    }\n",
       "\n",
       "    .dataframe tbody tr th {\n",
       "        vertical-align: top;\n",
       "    }\n",
       "\n",
       "    .dataframe thead th {\n",
       "        text-align: right;\n",
       "    }\n",
       "</style>\n",
       "<table border=\"1\" class=\"dataframe\">\n",
       "  <thead>\n",
       "    <tr style=\"text-align: right;\">\n",
       "      <th></th>\n",
       "      <th>Unnamed: 0</th>\n",
       "      <th>Fecha</th>\n",
       "      <th>Medidor [W]</th>\n",
       "    </tr>\n",
       "  </thead>\n",
       "  <tbody>\n",
       "    <tr>\n",
       "      <th>0</th>\n",
       "      <td>0</td>\n",
       "      <td>2017-06-07 0:00</td>\n",
       "      <td>228.887</td>\n",
       "    </tr>\n",
       "    <tr>\n",
       "      <th>1</th>\n",
       "      <td>1</td>\n",
       "      <td>2017-06-07 0:01</td>\n",
       "      <td>231.814</td>\n",
       "    </tr>\n",
       "    <tr>\n",
       "      <th>2</th>\n",
       "      <td>2</td>\n",
       "      <td>2017-06-07 0:02</td>\n",
       "      <td>230.971</td>\n",
       "    </tr>\n",
       "    <tr>\n",
       "      <th>3</th>\n",
       "      <td>3</td>\n",
       "      <td>2017-06-07 0:03</td>\n",
       "      <td>231.878</td>\n",
       "    </tr>\n",
       "    <tr>\n",
       "      <th>4</th>\n",
       "      <td>4</td>\n",
       "      <td>2017-06-07 0:04</td>\n",
       "      <td>189.225</td>\n",
       "    </tr>\n",
       "    <tr>\n",
       "      <th>...</th>\n",
       "      <td>...</td>\n",
       "      <td>...</td>\n",
       "      <td>...</td>\n",
       "    </tr>\n",
       "    <tr>\n",
       "      <th>194118</th>\n",
       "      <td>194118</td>\n",
       "      <td>2017-10-22 23:55</td>\n",
       "      <td>88.272</td>\n",
       "    </tr>\n",
       "    <tr>\n",
       "      <th>194119</th>\n",
       "      <td>194119</td>\n",
       "      <td>2017-10-22 23:56</td>\n",
       "      <td>86.386</td>\n",
       "    </tr>\n",
       "    <tr>\n",
       "      <th>194120</th>\n",
       "      <td>194120</td>\n",
       "      <td>2017-10-22 23:57</td>\n",
       "      <td>85.766</td>\n",
       "    </tr>\n",
       "    <tr>\n",
       "      <th>194121</th>\n",
       "      <td>194121</td>\n",
       "      <td>2017-10-22 23:58</td>\n",
       "      <td>87.665</td>\n",
       "    </tr>\n",
       "    <tr>\n",
       "      <th>194122</th>\n",
       "      <td>194122</td>\n",
       "      <td>2017-10-22 23:59</td>\n",
       "      <td>86.988</td>\n",
       "    </tr>\n",
       "  </tbody>\n",
       "</table>\n",
       "<p>194123 rows × 3 columns</p>\n",
       "</div>"
      ],
      "text/plain": [
       "        Unnamed: 0             Fecha  Medidor [W]\n",
       "0                0   2017-06-07 0:00      228.887\n",
       "1                1   2017-06-07 0:01      231.814\n",
       "2                2   2017-06-07 0:02      230.971\n",
       "3                3   2017-06-07 0:03      231.878\n",
       "4                4   2017-06-07 0:04      189.225\n",
       "...            ...               ...          ...\n",
       "194118      194118  2017-10-22 23:55       88.272\n",
       "194119      194119  2017-10-22 23:56       86.386\n",
       "194120      194120  2017-10-22 23:57       85.766\n",
       "194121      194121  2017-10-22 23:58       87.665\n",
       "194122      194122  2017-10-22 23:59       86.988\n",
       "\n",
       "[194123 rows x 3 columns]"
      ]
     },
     "execution_count": 5,
     "metadata": {},
     "output_type": "execute_result"
    }
   ],
   "source": [
    "data = df.iloc[:, :3]\n",
    "data"
   ]
  },
  {
   "cell_type": "code",
   "execution_count": 6,
   "metadata": {},
   "outputs": [],
   "source": [
    "data.to_csv('entrada.csv', index=False)"
   ]
  }
 ],
 "metadata": {
  "kernelspec": {
   "display_name": "Python 3",
   "language": "python",
   "name": "python3"
  },
  "language_info": {
   "codemirror_mode": {
    "name": "ipython",
    "version": 3
   },
   "file_extension": ".py",
   "mimetype": "text/x-python",
   "name": "python",
   "nbconvert_exporter": "python",
   "pygments_lexer": "ipython3",
   "version": "3.10.0"
  }
 },
 "nbformat": 4,
 "nbformat_minor": 2
}
